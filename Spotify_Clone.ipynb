{
  "nbformat": 4,
  "nbformat_minor": 0,
  "metadata": {
    "colab": {
      "provenance": [],
      "toc_visible": true,
      "authorship_tag": "ABX9TyOWWJwb2wjVPN4+ap33WB8x",
      "include_colab_link": true
    },
    "kernelspec": {
      "name": "python3",
      "display_name": "Python 3"
    },
    "language_info": {
      "name": "python"
    }
  },
  "cells": [
    {
      "cell_type": "markdown",
      "metadata": {
        "id": "view-in-github",
        "colab_type": "text"
      },
      "source": [
        "<a href=\"https://colab.research.google.com/github/gargvashu2003/Spotify-Clone/blob/main/Spotify_Clone.ipynb\" target=\"_parent\"><img src=\"https://colab.research.google.com/assets/colab-badge.svg\" alt=\"Open In Colab\"/></a>"
      ]
    },
    {
      "cell_type": "markdown",
      "source": [
        "\n",
        "# Title of the Project  =  Spotify Clone"
      ],
      "metadata": {
        "id": "784hUagTJYs1"
      }
    },
    {
      "cell_type": "markdown",
      "source": [
        "# Project Overview"
      ],
      "metadata": {
        "id": "XxXSuGo6Jwtl"
      }
    },
    {
      "cell_type": "markdown",
      "source": [
        "The goal of this project is to build a web application that mimics the basic features of Spotify, such as a music player interface, a list of songs, and basic playback controls. This project will help you practice HTML, CSS, and JavaScript skills while creating a functional and visually appealing application."
      ],
      "metadata": {
        "id": "wEw9Emk3J126"
      }
    },
    {
      "cell_type": "markdown",
      "source": [
        "# Features"
      ],
      "metadata": {
        "id": "tAj5wFqgJ6uO"
      }
    },
    {
      "cell_type": "markdown",
      "source": [
        "1. Music Player Interface:\n",
        "\n",
        "* Play/Pause Button: Control the playback of the currently selected track.\n",
        "* Next/Previous Buttons: Navigate between songs in the playlist.\n",
        "* Volume Control: Adjust the volume of the music.\n",
        "* Progress Bar: Display the current position of the song and allow users to seek to different parts of the track.\n",
        "* Track Information: Show the current song's title and artist.\n",
        "2. Playlist:\n",
        "\n",
        "* Song List: Display a list of available tracks with their titles and artists.\n",
        "* Track Selection: Allow users to click on a song in the playlist to play it.\n",
        "3. Responsive Design:\n",
        "\n",
        "* Ensure the application works well on various devices and screen sizes."
      ],
      "metadata": {
        "id": "xOMWMmIDKE17"
      }
    },
    {
      "cell_type": "markdown",
      "source": [
        "# Technologies Used"
      ],
      "metadata": {
        "id": "vERF4zj3K-Dt"
      }
    },
    {
      "cell_type": "markdown",
      "source": [
        "* HTML: Structure of the web application, including the layout of the player, playlist, and controls.\n",
        "* CSS: Styling of the application, including layout, colors, fonts, and responsiveness.\n",
        "* JavaScript: Functionality of the music player, including playback control, track management, and dynamic updates."
      ],
      "metadata": {
        "id": "RSYI7sRhLJbn"
      }
    },
    {
      "cell_type": "markdown",
      "source": [
        "# Implementation Details"
      ],
      "metadata": {
        "id": "aX-D__dbLiHb"
      }
    },
    {
      "cell_type": "markdown",
      "source": [
        "1. HTML Structure:\n",
        "\n",
        "* Create a main container for the music player.\n",
        "* Include elements for playback controls, track information, and the playlist.\n",
        "* Example structure:"
      ],
      "metadata": {
        "id": "IgHreS0QLujN"
      }
    },
    {
      "cell_type": "code",
      "source": [
        "<!DOCTYPE html>\n",
        "<html lang=\"en\">\n",
        "    <head>\n",
        "        <meta charset=\"UTF-8\">\n",
        "        <meta http-equiv=\"X-UA-Compatible\" content=\"IE=edge\">\n",
        "        <meta name=\"viewport\" content=\"width=device-width, initial-scale=1.0\">\n",
        "        <title>Spotify - Your favourite music is here</title>\n",
        "        <link rel=\"stylesheet\" href=\"style.css\">\n",
        "        </head>\n",
        "<body>\n",
        "    <nav>\n",
        "        <ul>\n",
        "            <li class=\"brand\"><img src=\"logo.png\" alt=\"Spotify\"> Spotify</li>\n",
        "            <li>Home</li>\n",
        "            <li>About</li>\n",
        "        </ul>\n",
        "    </nav>\n",
        "\n",
        "    <div class=\"container\">\n",
        "        <div class=\"songList\">\n",
        "            <h1>Best of NCS - No Copyright Sounds</h1>\n",
        "            <div class=\"songItemContainer\">\n",
        "                <div class=\"songItem\">\n",
        "                    <img alt=\"1\">\n",
        "                    <span class=\"songName\">Let me Love You</span>\n",
        "                    <span class=\"songlistplay\"><span class=\"timestamp\">05:34 <i id=\"0\" class=\"far songItemPlay fa-play-circle\"></i> </span></span>\n",
        "                </div>\n",
        "                <div class=\"songItem\">\n",
        "                    <img alt=\"1\">\n",
        "                    <span class=\"songName\">Let me Love You</span>\n",
        "                    <span class=\"songlistplay\"><span class=\"timestamp\">05:34 <i id=\"1\" class=\"far songItemPlay fa-play-circle\"></i> </span></span>\n",
        "                </div>\n",
        "                <div class=\"songItem\">\n",
        "                    <img alt=\"1\">\n",
        "                    <span class=\"songName\">Let me Love You</span>\n",
        "                    <span class=\"songlistplay\"><span class=\"timestamp\">05:34 <i id=\"2\" class=\"far songItemPlay fa-play-circle\"></i> </span></span>\n",
        "                </div>\n",
        "                <div class=\"songItem\">\n",
        "                    <img alt=\"1\">\n",
        "                    <span class=\"songName\">Let me Love You</span>\n",
        "                    <span class=\"songlistplay\"><span class=\"timestamp\">05:34 <i id=\"3\" class=\"far songItemPlay fa-play-circle\"></i> </span></span>\n",
        "                </div>\n",
        "                <div class=\"songItem\">\n",
        "                    <img alt=\"1\">\n",
        "                    <span class=\"songName\">Let me Love You</span>\n",
        "                    <span class=\"songlistplay\"><span class=\"timestamp\">05:34 <i id=\"4\" class=\"far songItemPlay fa-play-circle\"></i> </span></span>\n",
        "                </div>\n",
        "                <div class=\"songItem\">\n",
        "                    <img alt=\"1\">\n",
        "                    <span class=\"songName\">Let me Love You</span>\n",
        "                    <span class=\"songlistplay\"><span class=\"timestamp\">05:34 <i id=\"5\" class=\"far songItemPlay fa-play-circle\"></i> </span></span>\n",
        "                </div>\n",
        "                <div class=\"songItem\">\n",
        "                    <img alt=\"1\">\n",
        "                    <span class=\"songName\">Let me Love You</span>\n",
        "                    <span class=\"songlistplay\"><span class=\"timestamp\">05:34 <i id=\"6\" class=\"far songItemPlay fa-play-circle\"></i> </span></span>\n",
        "                </div>\n",
        "                <div class=\"songItem\">\n",
        "                    <img alt=\"1\">\n",
        "                    <span class=\"songName\">Let me Love You</span>\n",
        "                    <span class=\"songlistplay\"><span class=\"timestamp\">05:34 <i id=\"7\" class=\"far songItemPlay fa-play-circle\"></i> </span></span>\n",
        "                </div>\n",
        "                <div class=\"songItem\">\n",
        "                    <img alt=\"1\">\n",
        "                    <span class=\"songName\">Let me Love You</span>\n",
        "                    <span class=\"songlistplay\"><span class=\"timestamp\">05:34 <i id=\"8\" class=\"far songItemPlay fa-play-circle\"></i> </span></span>\n",
        "                </div>\n",
        "                <div class=\"songItem\">\n",
        "                    <img alt=\"1\">\n",
        "                    <span class=\"songName\">Let me Love You</span>\n",
        "                    <span class=\"songlistplay\"><span class=\"timestamp\">05:34 <i id=\"9\" class=\"far songItemPlay fa-play-circle\"></i> </span></span>\n",
        "                </div>\n",
        "            </div>\n",
        "        </div>\n",
        "        <div class=\"songBanner\"></div>\n",
        "    </div>\n",
        "\n",
        "    <div class=\"bottom\">\n",
        "        <input type=\"range\" name=\"range\" id=\"myProgressBar\" min=\"0\" value=\"0\" max=\"100\">\n",
        "        <div class=\"icons\">\n",
        "            <!-- fontawesome icons -->\n",
        "            <i class=\"fas fa-3x fa-step-backward\" id=\"previous\"></i>\n",
        "            <i class=\"far fa-3x fa-play-circle\" id=\"masterPlay\"></i>\n",
        "            <i class=\"fas fa-3x fa-step-forward\" id=\"next\"></i>\n",
        "        </div>\n",
        "        <div class=\"songInfo\">\n",
        "            <img src=\"playing.gif\" width=\"42px\" alt=\"\" id=\"gif\"> <span id=\"masterSongName\">Warriyo - Mortals [NCS Release]</span>\n",
        "        </div>\n",
        "    </div>\n",
        "    <script src=\"script.js\"></script>\n",
        "    <script src=\"https://kit.fontawesome.com/26504e4a1f.js\" crossorigin=\"anonymous\"></script>\n",
        "</body>\n",
        "</html>"
      ],
      "metadata": {
        "id": "5HXS5YO7L1kf"
      },
      "execution_count": null,
      "outputs": []
    },
    {
      "cell_type": "markdown",
      "source": [
        "2. CSS Styling:\n",
        "\n",
        "* Style the player controls to be visually appealing and easy to use.\n",
        "* Use flexbox or grid layout to arrange the player components.\n",
        "* Apply responsive design principles to ensure the player looks good on mobile and desktop screens.\n",
        "* Example CSS:\n"
      ],
      "metadata": {
        "id": "084Q6IptMGpa"
      }
    },
    {
      "cell_type": "code",
      "source": [
        "@import url('https://fonts.googleapis.com/css2?family=Ubuntu&display=swap');\n",
        "@import url('https://fonts.googleapis.com/css2?family=Varela+Round&display=swap');\n",
        "body{\n",
        "    background-color: antiquewhite;\n",
        "}\n",
        "\n",
        "*{\n",
        "    margin: 0;\n",
        "    padding: 0;\n",
        "}\n",
        "\n",
        "nav{\n",
        "    font-family: 'Ubuntu', sans-serif;\n",
        "}\n",
        "\n",
        "nav ul{\n",
        "    display: flex;\n",
        "    align-items: center;\n",
        "    list-style-type: none;\n",
        "    height: 65px;\n",
        "    background-color: black;\n",
        "    color: white;\n",
        "}\n",
        "\n",
        "nav ul li{\n",
        "    padding: 0 12px;\n",
        "}\n",
        ".brand img{\n",
        "    width: 44px;\n",
        "    padding: 0 8px;\n",
        "}\n",
        "\n",
        ".brand {\n",
        "    display: flex;\n",
        "    align-items: center;\n",
        "    font-weight: bolder;\n",
        "    font-size: 1.3rem;\n",
        "}\n",
        "\n",
        ".container{\n",
        "    min-height: 72vh;\n",
        "    background-color: black;\n",
        "    color: white;\n",
        "   font-family: 'Varela Round', sans-serif;\n",
        "   display: flex;\n",
        "   margin: 23px auto;\n",
        "   width: 70%;\n",
        "   border-radius: 12px;\n",
        "   padding: 34px;\n",
        "   background-image: url('bg.jpg');\n",
        "}\n",
        "\n",
        ".bottom{\n",
        "    position: sticky;\n",
        "    bottom: 0;\n",
        "    height: 130px;\n",
        "    background-color: black;\n",
        "    color: white;\n",
        "    display: flex;\n",
        "    justify-content: center;\n",
        "    align-items: center;\n",
        "    flex-direction: column;\n",
        "}\n",
        "\n",
        ".icons{\n",
        "    margin-top: 14px;\n",
        "}\n",
        ".icons i{\n",
        "    cursor: pointer;\n",
        "}\n",
        "\n",
        "#myProgressBar{\n",
        "    width: 80vw;\n",
        "    cursor: pointer;\n",
        "}\n",
        "\n",
        ".songItemContainer{\n",
        "    margin-top: 74px;\n",
        "}\n",
        "\n",
        ".songItem{\n",
        "    height: 50px;\n",
        "    display: flex;\n",
        "    background-color: white;\n",
        "\n",
        "    color: black;\n",
        "    margin: 12px 0;\n",
        "    justify-content: space-between;\n",
        "    align-items: center;\n",
        "    border-radius: 34px;\n",
        "}\n",
        "\n",
        ".songItem img{\n",
        "    width: 43px;\n",
        "    margin: 0 23px;\n",
        "    border-radius: 34px;\n",
        "}\n",
        "\n",
        ".timestamp{\n",
        "    margin: 0 23px;\n",
        "}\n",
        "\n",
        ".timestamp i{\n",
        "    cursor: pointer;\n",
        "}\n",
        "\n",
        ".songInfo{\n",
        "    position: absolute;\n",
        "    left: 10vw;\n",
        "    font-family: 'Varela Round', sans-serif;\n",
        "}\n",
        "\n",
        ".songInfo img{\n",
        "    opacity: 0;\n",
        "    transition: opacity 0.4s ease-in;\n",
        "}\n",
        "\n",
        "@media only screen and (max-width: 1100px) {\n",
        "    body {\n",
        "      background-color: red;\n",
        "    }\n",
        "  }"
      ],
      "metadata": {
        "id": "QmyQYpsKMTtX"
      },
      "execution_count": null,
      "outputs": []
    },
    {
      "cell_type": "markdown",
      "source": [
        "3. JavaScript Functionality:\n",
        "\n",
        "* Manage the playback of songs using the HTML5 <audio> element.\n",
        "* Implement event listeners for playback controls (play, pause, next, previous).\n",
        "* Handle the volume and progress bar interactions.\n",
        "* Populate the playlist dynamically and handle track selection.\n",
        "* Example JavaScript:"
      ],
      "metadata": {
        "id": "1zmzDkCUMgW_"
      }
    },
    {
      "cell_type": "code",
      "source": [
        "console.log(\"Welcome to Spotify\");\n",
        "\n",
        "// Initialize the Variables\n",
        "let songIndex = 0;\n",
        "let audioElement = new Audio('songs/1.mp3');\n",
        "let masterPlay = document.getElementById('masterPlay');\n",
        "let myProgressBar = document.getElementById('myProgressBar');\n",
        "let gif = document.getElementById('gif');\n",
        "let masterSongName = document.getElementById('masterSongName');\n",
        "let songItems = Array.from(document.getElementsByClassName('songItem'));\n",
        "\n",
        "let songs = [\n",
        "    {songName: \"Warriyo - Mortals [NCS Release]\", filePath: \"songs/1.mp3\", coverPath: \"covers/1.jpg\"},\n",
        "    {songName: \"Cielo - Huma-Huma\", filePath: \"songs/2.mp3\", coverPath: \"covers/2.jpg\"},\n",
        "    {songName: \"DEAF KEV - Invincible [NCS Release]-320k\", filePath: \"songs/3.mp3\", coverPath: \"covers/3.jpg\"},\n",
        "    {songName: \"Different Heaven & EH!DE - My Heart [NCS Release]\", filePath: \"songs/4.mp3\", coverPath: \"covers/4.jpg\"},\n",
        "    {songName: \"Janji-Heroes-Tonight-feat-Johnning-NCS-Release\", filePath: \"songs/5.mp3\", coverPath: \"covers/5.jpg\"},\n",
        "    {songName: \"Rabba - Salam-e-Ishq\", filePath: \"songs/2.mp3\", coverPath: \"covers/6.jpg\"},\n",
        "    {songName: \"Sakhiyaan - Salam-e-Ishq\", filePath: \"songs/2.mp3\", coverPath: \"covers/7.jpg\"},\n",
        "    {songName: \"Bhula Dena - Salam-e-Ishq\", filePath: \"songs/2.mp3\", coverPath: \"covers/8.jpg\"},\n",
        "    {songName: \"Tumhari Kasam - Salam-e-Ishq\", filePath: \"songs/2.mp3\", coverPath: \"covers/9.jpg\"},\n",
        "    {songName: \"Na Jaana - Salam-e-Ishq\", filePath: \"songs/4.mp3\", coverPath: \"covers/10.jpg\"},\n",
        "]\n",
        "\n",
        "songItems.forEach((element, i)=>{\n",
        "    element.getElementsByTagName(\"img\")[0].src = songs[i].coverPath;\n",
        "    element.getElementsByClassName(\"songName\")[0].innerText = songs[i].songName;\n",
        "})\n",
        "\n",
        "\n",
        "// Handle play/pause click\n",
        "masterPlay.addEventListener('click', ()=>{\n",
        "    if(audioElement.paused || audioElement.currentTime<=0){\n",
        "        audioElement.play();\n",
        "        masterPlay.classList.remove('fa-play-circle');\n",
        "        masterPlay.classList.add('fa-pause-circle');\n",
        "        gif.style.opacity = 1;\n",
        "    }\n",
        "    else{\n",
        "        audioElement.pause();\n",
        "        masterPlay.classList.remove('fa-pause-circle');\n",
        "        masterPlay.classList.add('fa-play-circle');\n",
        "        gif.style.opacity = 0;\n",
        "    }\n",
        "})\n",
        "// Listen to Events\n",
        "audioElement.addEventListener('timeupdate', ()=>{\n",
        "    // Update Seekbar\n",
        "    progress = parseInt((audioElement.currentTime/audioElement.duration)* 100);\n",
        "    myProgressBar.value = progress;\n",
        "})\n",
        "\n",
        "myProgressBar.addEventListener('change', ()=>{\n",
        "    audioElement.currentTime = myProgressBar.value * audioElement.duration/100;\n",
        "})\n",
        "\n",
        "const makeAllPlays = ()=>{\n",
        "    Array.from(document.getElementsByClassName('songItemPlay')).forEach((element)=>{\n",
        "        element.classList.remove('fa-pause-circle');\n",
        "        element.classList.add('fa-play-circle');\n",
        "    })\n",
        "}\n",
        "\n",
        "Array.from(document.getElementsByClassName('songItemPlay')).forEach((element)=>{\n",
        "    element.addEventListener('click', (e)=>{\n",
        "        makeAllPlays();\n",
        "        songIndex = parseInt(e.target.id);\n",
        "        e.target.classList.remove('fa-play-circle');\n",
        "        e.target.classList.add('fa-pause-circle');\n",
        "        audioElement.src = `songs/${songIndex+1}.mp3`;\n",
        "        masterSongName.innerText = songs[songIndex].songName;\n",
        "        audioElement.currentTime = 0;\n",
        "        audioElement.play();\n",
        "        gif.style.opacity = 1;\n",
        "        masterPlay.classList.remove('fa-play-circle');\n",
        "        masterPlay.classList.add('fa-pause-circle');\n",
        "    })\n",
        "})\n",
        "\n",
        "document.getElementById('next').addEventListener('click', ()=>{\n",
        "    if(songIndex>=9){\n",
        "        songIndex = 0\n",
        "    }\n",
        "    else{\n",
        "        songIndex += 1;\n",
        "    }\n",
        "    audioElement.src = `songs/${songIndex+1}.mp3`;\n",
        "    masterSongName.innerText = songs[songIndex].songName;\n",
        "    audioElement.currentTime = 0;\n",
        "    audioElement.play();\n",
        "    masterPlay.classList.remove('fa-play-circle');\n",
        "    masterPlay.classList.add('fa-pause-circle');\n",
        "\n",
        "})\n",
        "\n",
        "document.getElementById('previous').addEventListener('click', ()=>{\n",
        "    if(songIndex<=0){\n",
        "        songIndex = 0\n",
        "    }\n",
        "    else{\n",
        "        songIndex -= 1;\n",
        "    }\n",
        "    audioElement.src = `songs/${songIndex+1}.mp3`;\n",
        "    masterSongName.innerText = songs[songIndex].songName;\n",
        "    audioElement.currentTime = 0;\n",
        "    audioElement.play();\n",
        "    masterPlay.classList.remove('fa-play-circle');\n",
        "    masterPlay.classList.add('fa-pause-circle');\n",
        "})"
      ],
      "metadata": {
        "id": "PIbzkziZM4Zl"
      },
      "execution_count": null,
      "outputs": []
    },
    {
      "cell_type": "markdown",
      "source": [
        "# Developent Process"
      ],
      "metadata": {
        "id": "N91w9RywM-p0"
      }
    },
    {
      "cell_type": "markdown",
      "source": [
        "1. Design: Plan the layout and functionality of the music player. Create wireframes or mockups if needed.\n",
        "2. HTML Structure: Build the basic structure of the application using HTML.\n",
        "3. CSS Styling: Apply styles to make the application visually appealing and responsive.\n",
        "4. JavaScript Functionality: Implement the logic for playback controls, track management, and dynamic updates.\n",
        "5. Testing: Test the application across different browsers and devices to ensure compatibility and responsiveness.\n",
        "6. Deployment: Host the application on a web server or a platform like GitHub Pages for public access."
      ],
      "metadata": {
        "id": "fzBnOl02NGnK"
      }
    },
    {
      "cell_type": "markdown",
      "source": [
        "# Extensions and Improvements"
      ],
      "metadata": {
        "id": "gT_NwMlWNStK"
      }
    },
    {
      "cell_type": "markdown",
      "source": [
        "* Add user authentication to manage personal playlists.\n",
        "* Integrate a search feature to find songs or artists.\n",
        "* Implement additional features such as shuffle and repeat modes.\n",
        "* Use a backend service to handle real-time music streaming and large playlists."
      ],
      "metadata": {
        "id": "z_8bNko9NY56"
      }
    },
    {
      "cell_type": "markdown",
      "source": [
        "This project provides a solid foundation for understanding how web-based music players work and offers opportunities to explore more advanced features as you become more comfortable with HTML, CSS, and JavaScript."
      ],
      "metadata": {
        "id": "alOlFiL3NgTL"
      }
    }
  ]
}